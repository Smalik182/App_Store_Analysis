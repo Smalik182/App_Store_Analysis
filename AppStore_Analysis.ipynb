{
 "cells": [
  {
   "cell_type": "markdown",
   "id": "c052984e",
   "metadata": {},
   "source": [
    "## App Store Analysis\n",
    "\n",
    "The goal of this analysis will be to take two data sets, Google Play and iOS App Store and break down what types of apps user's are most attracted to. \n",
    "\n",
    "The Google Play data was collected in August 2018 and contains data on approximately 10,000 Android Apps.\n",
    "The iOS data was collected in July 2017 and contains approximately data on 7,000 iOS Apps.\n",
    "\n",
    "We will be focusing on apps designed for an english speaking audience.\n",
    "As well as only free to download apps. "
   ]
  },
  {
   "cell_type": "code",
   "execution_count": 2,
   "id": "945090ad",
   "metadata": {},
   "outputs": [],
   "source": [
    "from csv import reader\n",
    "\n",
    "# Open Google Play Store Data\n",
    "# add encoding to avoid error \"'charmap' codec can't decode byte 0x90 in position\"\n",
    "# Use r before the directory location to convert to a raw string\n",
    "opened_file = open(r\"C:\\Users\\MalikSami\\Desktop\\Data_Analytics\\App_Store_Analysis\\googleplaystore.csv\",\n",
    "                  encoding=\"utf8\")\n",
    "read_file = reader(opened_file)\n",
    "\n",
    "android = list(read_file)\n",
    "android_header = android[0]\n",
    "android = android[1:]\n"
   ]
  },
  {
   "cell_type": "code",
   "execution_count": 6,
   "id": "6ba971cb",
   "metadata": {},
   "outputs": [],
   "source": [
    "# Open iOS App Store Data\n",
    "opened_file = open(r\"C:\\Users\\MalikSami\\Desktop\\Data_Analytics\\App_Store_Analysis\\AppleStore.csv\",\n",
    "                  encoding=\"utf8\")\n",
    "read_file = reader(opened_file)\n",
    "\n",
    "ios = list(read_file)\n",
    "ios_header = ios[0]\n",
    "ios = ios[1:]"
   ]
  },
  {
   "cell_type": "code",
   "execution_count": 8,
   "id": "90c8dbc7",
   "metadata": {},
   "outputs": [],
   "source": [
    "# Explore Function \n",
    "# start and end are integers that represent the location of the splices \n",
    "# rows_and_columns will priint the number of rows and columns if set to True\n",
    "# Note the data set should not have a header row, or the function will print the wrong number of rows\n",
    "def explore_data(dataSet, start, end, rows_and_columns = False):\n",
    "    dataSet_slice = dataSet[start:end]\n",
    "    for row in dataSet_slice:\n",
    "        print(row)\n",
    "        print('\\n')\n",
    "    if rows_and_columns:\n",
    "        print('Number of rows: ', len(dataSet))\n",
    "        print('Number of columns: ', len(dataSet[0]))\n",
    "        \n",
    "    "
   ]
  },
  {
   "cell_type": "markdown",
   "id": "1c79bdb4",
   "metadata": {},
   "source": [
    "### Exploring the data"
   ]
  },
  {
   "cell_type": "code",
   "execution_count": 9,
   "id": "2e512649",
   "metadata": {},
   "outputs": [
    {
     "name": "stdout",
     "output_type": "stream",
     "text": [
      "['Photo Editor & Candy Camera & Grid & ScrapBook', 'ART_AND_DESIGN', '4.1', '159', '19M', '10,000+', 'Free', '0', 'Everyone', 'Art & Design', 'January 7, 2018', '1.0.0', '4.0.3 and up']\n",
      "\n",
      "\n",
      "['Coloring book moana', 'ART_AND_DESIGN', '3.9', '967', '14M', '500,000+', 'Free', '0', 'Everyone', 'Art & Design;Pretend Play', 'January 15, 2018', '2.0.0', '4.0.3 and up']\n",
      "\n",
      "\n",
      "['U Launcher Lite – FREE Live Cool Themes, Hide Apps', 'ART_AND_DESIGN', '4.7', '87510', '8.7M', '5,000,000+', 'Free', '0', 'Everyone', 'Art & Design', 'August 1, 2018', '1.2.4', '4.0.3 and up']\n",
      "\n",
      "\n",
      "Number of rows:  10841\n",
      "Number of columns:  13\n"
     ]
    }
   ],
   "source": [
    "explore_data(android, 0, 3, True)"
   ]
  },
  {
   "cell_type": "code",
   "execution_count": 10,
   "id": "a5df548b",
   "metadata": {},
   "outputs": [
    {
     "name": "stdout",
     "output_type": "stream",
     "text": [
      "['284882215', 'Facebook', '389879808', 'USD', '0.0', '2974676', '212', '3.5', '3.5', '95.0', '4+', 'Social Networking', '37', '1', '29', '1']\n",
      "\n",
      "\n",
      "['389801252', 'Instagram', '113954816', 'USD', '0.0', '2161558', '1289', '4.5', '4.0', '10.23', '12+', 'Photo & Video', '37', '0', '29', '1']\n",
      "\n",
      "\n",
      "['529479190', 'Clash of Clans', '116476928', 'USD', '0.0', '2130805', '579', '4.5', '4.5', '9.24.12', '9+', 'Games', '38', '5', '18', '1']\n",
      "\n",
      "\n",
      "Number of rows:  7197\n",
      "Number of columns:  16\n"
     ]
    }
   ],
   "source": [
    "explore_data(ios, 0, 3, True)"
   ]
  },
  {
   "cell_type": "markdown",
   "id": "64e6b66d",
   "metadata": {},
   "source": [
    "#### We can look at the header row of each data set to find relevant columns that can be useful in our analysis"
   ]
  },
  {
   "cell_type": "code",
   "execution_count": 13,
   "id": "3fe23e76",
   "metadata": {},
   "outputs": [
    {
     "name": "stdout",
     "output_type": "stream",
     "text": [
      "['App', 'Category', 'Rating', 'Reviews', 'Size', 'Installs', 'Type', 'Price', 'Content Rating', 'Genres', 'Last Updated', 'Current Ver', 'Android Ver']\n"
     ]
    }
   ],
   "source": [
    "print(android_header)"
   ]
  },
  {
   "cell_type": "markdown",
   "id": "63ed1023",
   "metadata": {},
   "source": [
    "##### In the Android data set we should consider looking at:\n",
    "'App' , 'Category', 'Rating', 'Reviews', 'Price', 'Content Rating' and 'Genres'\n",
    "\n"
   ]
  },
  {
   "cell_type": "code",
   "execution_count": 16,
   "id": "59841d5c",
   "metadata": {},
   "outputs": [
    {
     "name": "stdout",
     "output_type": "stream",
     "text": [
      "['id', 'track_name', 'size_bytes', 'currency', 'price', 'rating_count_tot', 'rating_count_ver', 'user_rating', 'user_rating_ver', 'ver', 'cont_rating', 'prime_genre', 'sup_devices.num', 'ipadSc_urls.num', 'lang.num', 'vpp_lic']\n"
     ]
    }
   ],
   "source": [
    "print(ios_header)"
   ]
  },
  {
   "cell_type": "markdown",
   "id": "6103612a",
   "metadata": {},
   "source": [
    "##### In the iOS data set we should consider looking at:\n",
    "'track_name', 'price', 'rating_count_tot',  'user_rating', 'cont_rating', 'prime_genre'\n",
    "\n",
    "rating_count_tot = total number of ratintgs\n",
    "cont_rating = Recomended Age"
   ]
  },
  {
   "cell_type": "markdown",
   "id": "8d4e42e3",
   "metadata": {},
   "source": [
    "## Data Cleaning\n",
    "\n",
    "Since we are only analyzing apps that are in english and free, we need to clean our data. \n",
    "Also if there are any errors in the data, those need to be addressed. \n"
   ]
  },
  {
   "cell_type": "markdown",
   "id": "8efcac93",
   "metadata": {},
   "source": [
    "Here We can see by running a for loop on the android data, that the header length is not equal to the length of the row. The following code pin points where the error is. \n",
    "From here we can delete that row from our data. Make sure to only run the del statement once since it will delete the next row if run again. "
   ]
  },
  {
   "cell_type": "code",
   "execution_count": 18,
   "id": "cc8e3fff",
   "metadata": {},
   "outputs": [
    {
     "name": "stdout",
     "output_type": "stream",
     "text": [
      "['Life Made WI-Fi Touchscreen Photo Frame', '1.9', '19', '3.0M', '1,000+', 'Free', '0', 'Everyone', '', 'February 11, 2018', '1.0.19', '4.0 and up']\n",
      "10472\n"
     ]
    }
   ],
   "source": [
    "for row in android:\n",
    "    header_length = len(android_header)\n",
    "    row_length = len(row)\n",
    "    if row_length != header_length:\n",
    "        print(row)\n",
    "        print(android.index(row))"
   ]
  },
  {
   "cell_type": "code",
   "execution_count": 19,
   "id": "fccca3d5",
   "metadata": {},
   "outputs": [
    {
     "name": "stdout",
     "output_type": "stream",
     "text": [
      "10841\n",
      "10840\n"
     ]
    }
   ],
   "source": [
    "print(len(android))\n",
    "del(android[10472])\n",
    "print(len(android))\n"
   ]
  },
  {
   "cell_type": "markdown",
   "id": "014fb94f",
   "metadata": {},
   "source": [
    "#### Duplicate Data\n",
    "Next we need to search for duplicate data in our data set. \n",
    "We can create two lists, duplicate_apps and unique_apps and run a for loop to seperate the data into the two lists."
   ]
  },
  {
   "cell_type": "code",
   "execution_count": 20,
   "id": "5998bc5b",
   "metadata": {},
   "outputs": [
    {
     "name": "stdout",
     "output_type": "stream",
     "text": [
      "Number of duplicate apps:  1181\n",
      "Number of unique apps:  9659\n"
     ]
    }
   ],
   "source": [
    "duplicate_apps = []\n",
    "unique_apps = []\n",
    "\n",
    "for app in android:\n",
    "    name = app[0]\n",
    "    if name in unique_apps:\n",
    "        duplicate_apps.append(name)\n",
    "    else:\n",
    "        unique_apps.append(name)\n",
    "\n",
    "print('Number of duplicate apps: ', len(duplicate_apps))\n",
    "print('Number of unique apps: ', len(unique_apps))"
   ]
  },
  {
   "cell_type": "markdown",
   "id": "2ee908b7",
   "metadata": {},
   "source": [
    "We do not want to randomly delete the duplicates. Instead we want to find a way to keep the most recent data and get rid of the older duplicates. If you note the 4th index of the data, which is the number of reviews. We can see that that a higher total number of reviews would mean that the data is more recent."
   ]
  },
  {
   "cell_type": "code",
   "execution_count": 22,
   "id": "8d7738aa",
   "metadata": {},
   "outputs": [
    {
     "name": "stdout",
     "output_type": "stream",
     "text": [
      "['Instagram', 'SOCIAL', '4.5', '66577313', 'Varies with device', '1,000,000,000+', 'Free', '0', 'Teen', 'Social', 'July 31, 2018', 'Varies with device', 'Varies with device']\n",
      "['Instagram', 'SOCIAL', '4.5', '66577446', 'Varies with device', '1,000,000,000+', 'Free', '0', 'Teen', 'Social', 'July 31, 2018', 'Varies with device', 'Varies with device']\n",
      "['Instagram', 'SOCIAL', '4.5', '66577313', 'Varies with device', '1,000,000,000+', 'Free', '0', 'Teen', 'Social', 'July 31, 2018', 'Varies with device', 'Varies with device']\n",
      "['Instagram', 'SOCIAL', '4.5', '66509917', 'Varies with device', '1,000,000,000+', 'Free', '0', 'Teen', 'Social', 'July 31, 2018', 'Varies with device', 'Varies with device']\n",
      "Expected length:  9659\n"
     ]
    }
   ],
   "source": [
    "# Note the fourth index, which is total reviews.\n",
    "for app in android:\n",
    "    name = app[0]\n",
    "    if name == 'Instagram':\n",
    "        print(app)\n",
    "\n",
    "print('Expected length: ', len(android) - 1181)"
   ]
  },
  {
   "cell_type": "markdown",
   "id": "b3c14319",
   "metadata": {},
   "source": [
    "Now we can create a dictionary and if the app name is already in the dictionary and the app's total reviews are greater than the n_reviews, we update the number of reviews for that entry.\n",
    "\n",
    "If the app name is not in the dictionary than we create a new entry in the dictionary, where the key is the app name and the value is the total number of reviews."
   ]
  },
  {
   "cell_type": "code",
   "execution_count": 27,
   "id": "1e223615",
   "metadata": {},
   "outputs": [
    {
     "name": "stdout",
     "output_type": "stream",
     "text": [
      "9659\n"
     ]
    }
   ],
   "source": [
    "reviews_max = {}\n",
    "\n",
    "for app in android:\n",
    "    name = app[0]\n",
    "    n_reviews = float(app[3])\n",
    "    if name in reviews_max and reviews_max[name] < n_reviews:\n",
    "        reviews_max[name] = n_reviews\n",
    "        \n",
    "    elif name not in reviews_max:\n",
    "        reviews_max[name] = n_reviews\n",
    "\n",
    "print(len(reviews_max))\n",
    "        \n",
    "    "
   ]
  },
  {
   "cell_type": "markdown",
   "id": "7cde2187",
   "metadata": {},
   "source": [
    "Now we can create a list of a cleaned version of the android data (android_clean)\n",
    "\n",
    "We can write a for loop to  run and see if reviews_max[name] is == n_reviews and that it does not already exist in the already_added list.\n",
    "If both conditions are met, the row is added to android_clean and the app name is added to the already_added list"
   ]
  },
  {
   "cell_type": "code",
   "execution_count": 28,
   "id": "7ac04ec8",
   "metadata": {},
   "outputs": [],
   "source": [
    "# We store rows in android_clean\n",
    "android_clean = []\n",
    "# We store the app name in already_added\n",
    "already_added = []\n",
    "\n",
    "for app in android:\n",
    "    name = app[0]\n",
    "    n_reviews = float(app[3])\n",
    "    if (reviews_max[name] == n_reviews) and (name not in already_added):\n",
    "        android_clean.append(app)\n",
    "        already_added.append(name)\n",
    "\n",
    "        \n",
    "    "
   ]
  },
  {
   "cell_type": "code",
   "execution_count": 29,
   "id": "bd9a4b29",
   "metadata": {},
   "outputs": [
    {
     "name": "stdout",
     "output_type": "stream",
     "text": [
      "['Photo Editor & Candy Camera & Grid & ScrapBook', 'ART_AND_DESIGN', '4.1', '159', '19M', '10,000+', 'Free', '0', 'Everyone', 'Art & Design', 'January 7, 2018', '1.0.0', '4.0.3 and up']\n",
      "\n",
      "\n",
      "['U Launcher Lite – FREE Live Cool Themes, Hide Apps', 'ART_AND_DESIGN', '4.7', '87510', '8.7M', '5,000,000+', 'Free', '0', 'Everyone', 'Art & Design', 'August 1, 2018', '1.2.4', '4.0.3 and up']\n",
      "\n",
      "\n",
      "['Sketch - Draw & Paint', 'ART_AND_DESIGN', '4.5', '215644', '25M', '50,000,000+', 'Free', '0', 'Teen', 'Art & Design', 'June 8, 2018', 'Varies with device', '4.2 and up']\n",
      "\n",
      "\n",
      "Number of rows:  9659\n",
      "Number of columns:  13\n"
     ]
    }
   ],
   "source": [
    "explore_data(android_clean,0,3,True)"
   ]
  },
  {
   "cell_type": "markdown",
   "id": "59558ad9",
   "metadata": {},
   "source": [
    "#### Cleaning the non - English apps\n",
    "\n",
    "Now we can write a function to take out the non  english apps from the data. \n",
    "\n",
    "The function will take a string and use the built in python function ord(), which returns a integer representing the unicode character.\n",
    "If that code is greater than 127 then that would mean it is not an english character. \n",
    "\n",
    "\n"
   ]
  },
  {
   "cell_type": "code",
   "execution_count": 32,
   "id": "422ee1ff",
   "metadata": {},
   "outputs": [
    {
     "name": "stdout",
     "output_type": "stream",
     "text": [
      "True\n",
      "False\n",
      "False\n",
      "False\n"
     ]
    }
   ],
   "source": [
    "def is_english(string):\n",
    "    \n",
    "    for character in string:\n",
    "        if ord(character) > 127:\n",
    "            return False\n",
    "        \n",
    "    return True\n",
    "\n",
    "print(is_english('Instagram'))\n",
    "print(is_english('爱奇艺PPS -《欢乐颂2》电视剧热播'))\n",
    "print(is_english('Docs To Go™ Free Office Suite'))\n",
    "print(is_english('Instachat 😜'))\n"
   ]
  },
  {
   "cell_type": "code",
   "execution_count": null,
   "id": "39b09bda",
   "metadata": {},
   "outputs": [],
   "source": []
  },
  {
   "cell_type": "code",
   "execution_count": null,
   "id": "0dd25ae2",
   "metadata": {},
   "outputs": [],
   "source": []
  }
 ],
 "metadata": {
  "kernelspec": {
   "display_name": "Python 3 (ipykernel)",
   "language": "python",
   "name": "python3"
  },
  "language_info": {
   "codemirror_mode": {
    "name": "ipython",
    "version": 3
   },
   "file_extension": ".py",
   "mimetype": "text/x-python",
   "name": "python",
   "nbconvert_exporter": "python",
   "pygments_lexer": "ipython3",
   "version": "3.9.12"
  }
 },
 "nbformat": 4,
 "nbformat_minor": 5
}
